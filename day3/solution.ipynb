{
 "cells": [
  {
   "cell_type": "code",
   "execution_count": 4,
   "metadata": {},
   "outputs": [],
   "source": [
    "import re"
   ]
  },
  {
   "cell_type": "code",
   "execution_count": 1,
   "metadata": {},
   "outputs": [],
   "source": [
    "with open(\"./input.txt\", \"r\") as f:\n",
    "    input_data = [line for line in f]"
   ]
  },
  {
   "cell_type": "markdown",
   "metadata": {},
   "source": [
    "# Part 1\n"
   ]
  },
  {
   "cell_type": "code",
   "execution_count": 6,
   "metadata": {},
   "outputs": [
    {
     "name": "stdout",
     "output_type": "stream",
     "text": [
      "174336360\n"
     ]
    }
   ],
   "source": [
    "pattern = r\"mul\\((\\d{1,3}),(\\d{1,3})\\)\"\n",
    "sums = []\n",
    "for line in input_data:\n",
    "    matches = re.findall(pattern, line)\n",
    "    muls = [int(x) * int(y) for x, y in matches]\n",
    "    sums.append(sum(muls))\n",
    "\n",
    "print(sum(sums))"
   ]
  },
  {
   "cell_type": "markdown",
   "metadata": {},
   "source": [
    "# Part 2\n"
   ]
  },
  {
   "cell_type": "code",
   "execution_count": 12,
   "metadata": {},
   "outputs": [],
   "source": [
    "mul_pattern = r\"mul\\((\\d{1,3}),(\\d{1,3})\\)\"\n",
    "do_pattern = r\"do\\(\\)\"\n",
    "dont_pattern = r\"don\\'t\\(\\)\"\n",
    "all_pattern = r\"mul\\((\\d{1,3}),(\\d{1,3})\\)|do\\(\\)|don\\'t\\(\\)\""
   ]
  },
  {
   "cell_type": "code",
   "execution_count": 28,
   "metadata": {},
   "outputs": [
    {
     "name": "stdout",
     "output_type": "stream",
     "text": [
      "88802350\n"
     ]
    }
   ],
   "source": [
    "sums = []\n",
    "multhem = True\n",
    "for line in input_data:\n",
    "    re_iter = re.finditer(all_pattern, line)\n",
    "    muls = []\n",
    "    for match in re_iter:\n",
    "        if match[0] == \"don't()\":\n",
    "            multhem = False\n",
    "        elif match[0] == \"do()\":\n",
    "            multhem = True\n",
    "        elif multhem:\n",
    "            muls.append(int(match[1]) * int(match[2]))\n",
    "\n",
    "    sums.append(sum(muls))\n",
    "\n",
    "print(sum(sums))"
   ]
  }
 ],
 "metadata": {
  "kernelspec": {
   "display_name": ".venv",
   "language": "python",
   "name": "python3"
  },
  "language_info": {
   "codemirror_mode": {
    "name": "ipython",
    "version": 3
   },
   "file_extension": ".py",
   "mimetype": "text/x-python",
   "name": "python",
   "nbconvert_exporter": "python",
   "pygments_lexer": "ipython3",
   "version": "3.11.9"
  }
 },
 "nbformat": 4,
 "nbformat_minor": 2
}
