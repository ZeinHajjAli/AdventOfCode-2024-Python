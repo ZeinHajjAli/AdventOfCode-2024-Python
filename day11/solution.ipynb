{
 "cells": [
  {
   "cell_type": "code",
   "execution_count": 1,
   "metadata": {},
   "outputs": [],
   "source": [
    "from tqdm import tqdm\n",
    "from time import perf_counter"
   ]
  },
  {
   "cell_type": "code",
   "execution_count": 2,
   "metadata": {},
   "outputs": [],
   "source": [
    "with open(\"./input.txt\", \"r\") as f:\n",
    "    stone_list = f.read().strip().split()"
   ]
  },
  {
   "cell_type": "code",
   "execution_count": 3,
   "metadata": {},
   "outputs": [],
   "source": [
    "def blink(stone_list):\n",
    "    updated_stone_list = []\n",
    "    for idx in range(len(stone_list)):\n",
    "        # print(idx, stone_list[idx])\n",
    "        if int(stone_list[idx]) == 0:\n",
    "            updated_stone_list.append(\"1\")\n",
    "        elif len(stone_list[idx]) % 2 == 0:\n",
    "            mid_idx = int(len(stone_list[idx]) / 2)\n",
    "            updated_stone_list.append(str(int(stone_list[idx][:mid_idx])))\n",
    "            updated_stone_list.append(str(int(stone_list[idx][mid_idx:])))\n",
    "        else:\n",
    "            updated_stone_list.append(str(int(stone_list[idx]) * 2024))\n",
    "\n",
    "    return updated_stone_list\n",
    "\n",
    "\n",
    "def blink_times(stone_list, n_blinks):\n",
    "    for b in tqdm(range(n_blinks)):\n",
    "        stone_list = blink(stone_list)\n",
    "\n",
    "    return stone_list, len(stone_list)"
   ]
  },
  {
   "cell_type": "code",
   "execution_count": 4,
   "metadata": {},
   "outputs": [
    {
     "name": "stderr",
     "output_type": "stream",
     "text": [
      "100%|██████████| 25/25 [00:00<00:00, 189.61it/s]"
     ]
    },
    {
     "name": "stdout",
     "output_type": "stream",
     "text": [
      "233875\n",
      "Time taken: 0.139836 seconds\n"
     ]
    },
    {
     "name": "stderr",
     "output_type": "stream",
     "text": [
      "\n"
     ]
    }
   ],
   "source": [
    "start = perf_counter()\n",
    "new_stone_list, new_stone_list_len = blink_times(stone_list, 25)\n",
    "end = perf_counter()\n",
    "print(new_stone_list_len)\n",
    "print(f\"Time taken: {end-start:.6f} seconds\")"
   ]
  },
  {
   "cell_type": "markdown",
   "metadata": {},
   "source": [
    "# Part 2\n"
   ]
  },
  {
   "cell_type": "code",
   "execution_count": 5,
   "metadata": {},
   "outputs": [],
   "source": [
    "from functools import cache"
   ]
  },
  {
   "cell_type": "code",
   "execution_count": 6,
   "metadata": {},
   "outputs": [],
   "source": [
    "@cache\n",
    "def recurs(stone, n_blinks):\n",
    "    if n_blinks == 0:\n",
    "        return 1\n",
    "\n",
    "    if int(stone) == 0:\n",
    "        return recurs(\"1\", n_blinks - 1)\n",
    "\n",
    "    if len(stone) % 2 == 0:\n",
    "        mid_idx = int(len(stone) / 2)\n",
    "        return recurs(str(int(stone[:mid_idx])), n_blinks - 1) + recurs(\n",
    "            str(int(stone[mid_idx:])), n_blinks - 1\n",
    "        )\n",
    "\n",
    "    return recurs(str(int(stone) * 2024), n_blinks - 1)\n",
    "\n",
    "\n",
    "def split_all_stones(stone_list, n_blinks):\n",
    "    return sum([recurs(stone, n_blinks) for stone in stone_list])"
   ]
  },
  {
   "cell_type": "code",
   "execution_count": 7,
   "metadata": {},
   "outputs": [
    {
     "name": "stdout",
     "output_type": "stream",
     "text": [
      "277444936413293\n",
      "Time taken: 0.087494 seconds\n"
     ]
    }
   ],
   "source": [
    "recurs.cache_clear()\n",
    "start = perf_counter()\n",
    "result = split_all_stones(stone_list, 75)\n",
    "end = perf_counter()\n",
    "print(result)\n",
    "print(f\"Time taken: {end-start:.6f} seconds\")"
   ]
  },
  {
   "cell_type": "markdown",
   "metadata": {},
   "source": [
    "## Timing Part 1 using Part 2 solver:\n"
   ]
  },
  {
   "cell_type": "code",
   "execution_count": 8,
   "metadata": {},
   "outputs": [
    {
     "name": "stdout",
     "output_type": "stream",
     "text": [
      "233875\n",
      "Time taken: 0.001779 seconds\n"
     ]
    }
   ],
   "source": [
    "recurs.cache_clear()\n",
    "start = perf_counter()\n",
    "result = split_all_stones(stone_list, 25)\n",
    "end = perf_counter()\n",
    "print(result)\n",
    "print(f\"Time taken: {end-start:.6f} seconds\")"
   ]
  }
 ],
 "metadata": {
  "kernelspec": {
   "display_name": ".venv",
   "language": "python",
   "name": "python3"
  },
  "language_info": {
   "codemirror_mode": {
    "name": "ipython",
    "version": 3
   },
   "file_extension": ".py",
   "mimetype": "text/x-python",
   "name": "python",
   "nbconvert_exporter": "python",
   "pygments_lexer": "ipython3",
   "version": "3.11.9"
  }
 },
 "nbformat": 4,
 "nbformat_minor": 2
}
