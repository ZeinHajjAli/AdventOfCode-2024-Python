{
 "cells": [
  {
   "cell_type": "code",
   "execution_count": 1,
   "metadata": {},
   "outputs": [],
   "source": [
    "import numpy as np\n",
    "from itertools import combinations\n",
    "from tqdm import tqdm"
   ]
  },
  {
   "cell_type": "code",
   "execution_count": 2,
   "metadata": {},
   "outputs": [],
   "source": [
    "with open(\"./input.txt\", \"r\") as f:\n",
    "    input_data = [line for line in f]\n",
    "\n",
    "input_data = np.array([list(line.strip()) for line in input_data])"
   ]
  },
  {
   "cell_type": "markdown",
   "metadata": {},
   "source": [
    "# Part 1\n"
   ]
  },
  {
   "cell_type": "code",
   "execution_count": 3,
   "metadata": {},
   "outputs": [
    {
     "name": "stderr",
     "output_type": "stream",
     "text": [
      "100%|██████████| 6/6 [00:00<00:00, 142987.64it/s]\n",
      "100%|██████████| 6/6 [00:00<00:00, 125203.10it/s]\n",
      "100%|██████████| 6/6 [00:00<00:00, 299593.14it/s]\n",
      "100%|██████████| 3/3 [00:00<00:00, 124583.29it/s]\n",
      "100%|██████████| 6/6 [00:00<00:00, 239674.51it/s]\n",
      "100%|██████████| 6/6 [00:00<00:00, 273541.57it/s]\n",
      "100%|██████████| 6/6 [00:00<00:00, 161319.38it/s]\n",
      "100%|██████████| 6/6 [00:00<00:00, 270600.26it/s]\n",
      "100%|██████████| 3/3 [00:00<00:00, 159277.37it/s]\n",
      "100%|██████████| 6/6 [00:00<00:00, 273541.57it/s]\n",
      "100%|██████████| 6/6 [00:00<00:00, 299593.14it/s]\n",
      "100%|██████████| 6/6 [00:00<00:00, 318554.73it/s]\n",
      "100%|██████████| 6/6 [00:00<00:00, 370085.65it/s]\n",
      "100%|██████████| 6/6 [00:00<00:00, 314572.80it/s]\n",
      "100%|██████████| 6/6 [00:00<00:00, 314572.80it/s]\n",
      "100%|██████████| 6/6 [00:00<00:00, 259441.48it/s]\n",
      "100%|██████████| 3/3 [00:00<00:00, 157286.40it/s]\n",
      "100%|██████████| 6/6 [00:00<00:00, 285975.27it/s]\n",
      "100%|██████████| 6/6 [00:00<00:00, 259441.48it/s]\n",
      "100%|██████████| 3/3 [00:00<00:00, 177224.11it/s]\n",
      "100%|██████████| 6/6 [00:00<00:00, 273541.57it/s]\n",
      "100%|██████████| 6/6 [00:00<00:00, 335544.32it/s]\n",
      "100%|██████████| 6/6 [00:00<00:00, 241979.08it/s]\n",
      "100%|██████████| 6/6 [00:00<00:00, 259441.48it/s]\n",
      "100%|██████████| 6/6 [00:00<00:00, 90851.35it/s]\n",
      "100%|██████████| 6/6 [00:00<00:00, 230879.12it/s]\n",
      "100%|██████████| 3/3 [00:00<00:00, 149796.57it/s]\n",
      "100%|██████████| 6/6 [00:00<00:00, 285975.27it/s]\n",
      "100%|██████████| 6/6 [00:00<00:00, 349525.33it/s]\n",
      "100%|██████████| 6/6 [00:00<00:00, 303202.70it/s]\n",
      "100%|██████████| 6/6 [00:00<00:00, 318554.73it/s]\n",
      "100%|██████████| 6/6 [00:00<00:00, 314572.80it/s]\n",
      "100%|██████████| 6/6 [00:00<00:00, 259441.48it/s]\n",
      "100%|██████████| 6/6 [00:00<00:00, 310689.19it/s]\n",
      "100%|██████████| 3/3 [00:00<00:00, 148034.26it/s]\n",
      "100%|██████████| 3/3 [00:00<00:00, 185042.82it/s]\n",
      "100%|██████████| 6/6 [00:00<00:00, 166661.09it/s]\n",
      "100%|██████████| 6/6 [00:00<00:00, 303202.70it/s]"
     ]
    },
    {
     "name": "stdout",
     "output_type": "stream",
     "text": [
      "259\n"
     ]
    },
    {
     "name": "stderr",
     "output_type": "stream",
     "text": [
      "\n"
     ]
    }
   ],
   "source": [
    "antinodes = []\n",
    "for antenna_type in np.unique(input_data):\n",
    "    if antenna_type == \".\":\n",
    "        continue\n",
    "\n",
    "    complex_pairs = list(\n",
    "        combinations(\n",
    "            [\n",
    "                complex(f\"{row}+{col}j\")\n",
    "                for row, col in zip(*np.where(input_data == antenna_type))\n",
    "            ],\n",
    "            2,\n",
    "        )\n",
    "    )\n",
    "\n",
    "    for comp_a, comp_b in tqdm(complex_pairs):\n",
    "        dist = comp_a - comp_b\n",
    "        antinode_a = comp_a + dist\n",
    "        antinode_b = comp_b - dist\n",
    "\n",
    "        if (\n",
    "            antinode_a.real >= 0\n",
    "            and antinode_a.real < input_data.shape[0]\n",
    "            and antinode_a.imag >= 0\n",
    "            and antinode_a.imag < input_data.shape[1]\n",
    "        ):\n",
    "            antinodes.append(antinode_a)\n",
    "\n",
    "        if (\n",
    "            antinode_b.real >= 0\n",
    "            and antinode_b.real < input_data.shape[0]\n",
    "            and antinode_b.imag >= 0\n",
    "            and antinode_b.imag < input_data.shape[1]\n",
    "        ):\n",
    "            antinodes.append(antinode_b)\n",
    "\n",
    "print(len(set(antinodes)))"
   ]
  },
  {
   "cell_type": "code",
   "execution_count": 4,
   "metadata": {},
   "outputs": [],
   "source": [
    "from math import gcd"
   ]
  },
  {
   "cell_type": "code",
   "execution_count": 5,
   "metadata": {},
   "outputs": [
    {
     "name": "stderr",
     "output_type": "stream",
     "text": [
      "100%|██████████| 6/6 [00:00<00:00, 11027.97it/s]\n",
      "100%|██████████| 6/6 [00:00<00:00, 42509.84it/s]\n",
      "100%|██████████| 6/6 [00:00<00:00, 55553.70it/s]\n",
      "100%|██████████| 3/3 [00:00<00:00, 44779.05it/s]\n",
      "100%|██████████| 6/6 [00:00<00:00, 58661.59it/s]\n",
      "100%|██████████| 6/6 [00:00<00:00, 53092.46it/s]\n",
      "100%|██████████| 6/6 [00:00<00:00, 53544.31it/s]\n",
      "100%|██████████| 6/6 [00:00<00:00, 44384.17it/s]\n",
      "100%|██████████| 3/3 [00:00<00:00, 50131.12it/s]\n",
      "100%|██████████| 6/6 [00:00<00:00, 58119.69it/s]\n",
      "100%|██████████| 6/6 [00:00<00:00, 61380.06it/s]\n",
      "100%|██████████| 6/6 [00:00<00:00, 56048.61it/s]\n",
      "100%|██████████| 6/6 [00:00<00:00, 51150.05it/s]\n",
      "100%|██████████| 6/6 [00:00<00:00, 58254.22it/s]\n",
      "100%|██████████| 6/6 [00:00<00:00, 56173.71it/s]\n",
      "100%|██████████| 6/6 [00:00<00:00, 39444.87it/s]\n",
      "100%|██████████| 3/3 [00:00<00:00, 44779.05it/s]\n",
      "100%|██████████| 6/6 [00:00<00:00, 23899.17it/s]\n",
      "100%|██████████| 6/6 [00:00<00:00, 55067.45it/s]\n",
      "100%|██████████| 3/3 [00:00<00:00, 48395.82it/s]\n",
      "100%|██████████| 6/6 [00:00<00:00, 59353.36it/s]\n",
      "100%|██████████| 6/6 [00:00<00:00, 58661.59it/s]\n",
      "100%|██████████| 6/6 [00:00<00:00, 52538.25it/s]\n",
      "100%|██████████| 6/6 [00:00<00:00, 61230.72it/s]\n",
      "100%|██████████| 6/6 [00:00<00:00, 50031.46it/s]\n",
      "100%|██████████| 6/6 [00:00<00:00, 59353.36it/s]\n",
      "100%|██████████| 3/3 [00:00<00:00, 51569.31it/s]\n",
      "100%|██████████| 6/6 [00:00<00:00, 56048.61it/s]\n",
      "100%|██████████| 6/6 [00:00<00:00, 56048.61it/s]\n",
      "100%|██████████| 6/6 [00:00<00:00, 40009.26it/s]\n",
      "100%|██████████| 6/6 [00:00<00:00, 58936.36it/s]\n",
      "100%|██████████| 6/6 [00:00<00:00, 55553.70it/s]\n",
      "100%|██████████| 6/6 [00:00<00:00, 51781.53it/s]\n",
      "100%|██████████| 6/6 [00:00<00:00, 57065.36it/s]\n",
      "100%|██████████| 3/3 [00:00<00:00, 52648.17it/s]\n",
      "100%|██████████| 3/3 [00:00<00:00, 50942.96it/s]\n",
      "100%|██████████| 6/6 [00:00<00:00, 55067.45it/s]\n",
      "100%|██████████| 6/6 [00:00<00:00, 59493.67it/s]"
     ]
    },
    {
     "name": "stdout",
     "output_type": "stream",
     "text": [
      "927\n"
     ]
    },
    {
     "name": "stderr",
     "output_type": "stream",
     "text": [
      "\n"
     ]
    }
   ],
   "source": [
    "antinodes = []\n",
    "for antenna_type in np.unique(input_data):\n",
    "    if antenna_type == \".\":\n",
    "        continue\n",
    "\n",
    "    complex_pairs = list(\n",
    "        combinations(\n",
    "            [\n",
    "                complex(f\"{row}+{col}j\")\n",
    "                for row, col in zip(*np.where(input_data == antenna_type))\n",
    "            ],\n",
    "            2,\n",
    "        )\n",
    "    )\n",
    "\n",
    "    for comp_a, comp_b in tqdm(complex_pairs):\n",
    "        dist = comp_a - comp_b\n",
    "        dist = dist / gcd(int(dist.real), int(dist.imag))\n",
    "        for dist_coeff in range(input_data.shape[0]):\n",
    "            antinode_a = comp_a + (dist * dist_coeff)\n",
    "            antinode_b = comp_b - (dist * dist_coeff)\n",
    "\n",
    "            if (\n",
    "                antinode_a.real >= 0\n",
    "                and antinode_a.real < input_data.shape[0]\n",
    "                and antinode_a.imag >= 0\n",
    "                and antinode_a.imag < input_data.shape[1]\n",
    "            ):\n",
    "                antinodes.append(antinode_a)\n",
    "\n",
    "            if (\n",
    "                antinode_b.real >= 0\n",
    "                and antinode_b.real < input_data.shape[0]\n",
    "                and antinode_b.imag >= 0\n",
    "                and antinode_b.imag < input_data.shape[1]\n",
    "            ):\n",
    "                antinodes.append(antinode_b)\n",
    "\n",
    "print(len(set(antinodes)))\n"
   ]
  }
 ],
 "metadata": {
  "kernelspec": {
   "display_name": ".venv",
   "language": "python",
   "name": "python3"
  },
  "language_info": {
   "codemirror_mode": {
    "name": "ipython",
    "version": 3
   },
   "file_extension": ".py",
   "mimetype": "text/x-python",
   "name": "python",
   "nbconvert_exporter": "python",
   "pygments_lexer": "ipython3",
   "version": "3.11.9"
  }
 },
 "nbformat": 4,
 "nbformat_minor": 2
}
