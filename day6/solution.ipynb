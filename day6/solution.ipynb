{
 "cells": [
  {
   "cell_type": "code",
   "execution_count": 1,
   "metadata": {},
   "outputs": [],
   "source": [
    "with open(\"./input.txt\", \"r\") as f:\n",
    "    input_data = [line for line in f]\n",
    "\n",
    "input_data = [line.strip() for line in input_data]"
   ]
  },
  {
   "cell_type": "code",
   "execution_count": 2,
   "metadata": {},
   "outputs": [],
   "source": [
    "import numpy as np"
   ]
  },
  {
   "cell_type": "code",
   "execution_count": 3,
   "metadata": {},
   "outputs": [],
   "source": [
    "data = []\n",
    "row_idx, col_idx = None, None\n",
    "\n",
    "for i, line in enumerate(input_data):\n",
    "    line_data = []\n",
    "    for j, char in enumerate(line.strip()):\n",
    "        if char == \"#\":\n",
    "            line_data.append(1)\n",
    "        else:\n",
    "            line_data.append(0)\n",
    "        if char == \"^\":\n",
    "            row_idx, col_idx = i, j\n",
    "    data.append(line_data)\n",
    "\n",
    "arr = np.array(data)"
   ]
  },
  {
   "cell_type": "code",
   "execution_count": 4,
   "metadata": {},
   "outputs": [],
   "source": [
    "from enum import Enum\n",
    "\n",
    "\n",
    "class Direction(Enum):\n",
    "    UP = 1\n",
    "    RIGHT = 2\n",
    "    DOWN = 3\n",
    "    LEFT = 4\n"
   ]
  },
  {
   "cell_type": "code",
   "execution_count": 5,
   "metadata": {},
   "outputs": [],
   "source": [
    "def get_next_turn(curdir):\n",
    "    match curdir:\n",
    "        case Direction.UP:\n",
    "            return Direction.RIGHT\n",
    "        case Direction.RIGHT:\n",
    "            return Direction.DOWN\n",
    "        case Direction.DOWN:\n",
    "            return Direction.LEFT\n",
    "        case Direction.LEFT:\n",
    "            return Direction.UP\n",
    "\n",
    "\n",
    "def get_next_step(curdir):\n",
    "    match curdir:\n",
    "        case Direction.UP:\n",
    "            return np.array([-1, 0])\n",
    "        case Direction.RIGHT:\n",
    "            return np.array([0, 1])\n",
    "        case Direction.DOWN:\n",
    "            return np.array([1, 0])\n",
    "        case Direction.LEFT:\n",
    "            return np.array([0, -1])"
   ]
  },
  {
   "cell_type": "markdown",
   "metadata": {},
   "source": [
    "# Part 1\n"
   ]
  },
  {
   "cell_type": "code",
   "execution_count": 6,
   "metadata": {},
   "outputs": [],
   "source": [
    "visited = np.zeros(arr.shape)\n",
    "cur = np.array([row_idx, col_idx])\n",
    "visited[cur[0], cur[1]] = 1"
   ]
  },
  {
   "cell_type": "code",
   "execution_count": 7,
   "metadata": {},
   "outputs": [],
   "source": [
    "curdir = Direction.UP\n",
    "\n",
    "while cur[0] < arr.shape[0] and cur[0] >= 0 and cur[1] < arr.shape[1] and cur[1] >= 0:\n",
    "    next_pos = cur + get_next_step(curdir)\n",
    "    if (\n",
    "        next_pos[0] >= arr.shape[0]\n",
    "        or next_pos[0] < 0\n",
    "        or next_pos[1] >= arr.shape[1]\n",
    "        or next_pos[1] < 0\n",
    "    ):\n",
    "        break\n",
    "    while arr[next_pos[0], next_pos[1]] == 1:\n",
    "        curdir = get_next_turn(curdir)\n",
    "        next_pos = cur + get_next_step(curdir)\n",
    "        if (\n",
    "            next_pos[0] >= arr.shape[0]\n",
    "            or next_pos[0] < 0\n",
    "            or next_pos[1] >= arr.shape[1]\n",
    "            or next_pos[1] < 0\n",
    "        ):\n",
    "            break\n",
    "\n",
    "    cur = next_pos\n",
    "    if cur[0] < arr.shape[0] and cur[0] >= 0 and cur[1] < arr.shape[1] and cur[1] >= 0:\n",
    "        visited[cur[0], cur[1]] = 1\n",
    "    else:\n",
    "        break"
   ]
  },
  {
   "cell_type": "code",
   "execution_count": 8,
   "metadata": {},
   "outputs": [
    {
     "data": {
      "text/plain": [
       "np.float64(4973.0)"
      ]
     },
     "execution_count": 8,
     "metadata": {},
     "output_type": "execute_result"
    }
   ],
   "source": [
    "np.sum(visited)"
   ]
  },
  {
   "cell_type": "markdown",
   "metadata": {},
   "source": [
    "# Part 2\n"
   ]
  },
  {
   "cell_type": "code",
   "execution_count": 9,
   "metadata": {},
   "outputs": [],
   "source": [
    "from tqdm import tqdm"
   ]
  },
  {
   "cell_type": "code",
   "execution_count": 10,
   "metadata": {},
   "outputs": [],
   "source": [
    "count = 0"
   ]
  },
  {
   "cell_type": "code",
   "execution_count": 11,
   "metadata": {},
   "outputs": [
    {
     "name": "stderr",
     "output_type": "stream",
     "text": [
      "100%|██████████| 16900/16900 [03:05<00:00, 91.28it/s] \n"
     ]
    }
   ],
   "source": [
    "for row_iter, col_iter in tqdm(list(np.ndindex(arr.shape))):\n",
    "    arr_new = arr.copy()\n",
    "    if row_iter == row_idx and col_iter == col_idx:\n",
    "        continue\n",
    "    arr_new[row_iter][col_iter] = 1\n",
    "\n",
    "    obs_row, obs_col = np.where(\n",
    "        arr_new == 1,\n",
    "    )\n",
    "\n",
    "    obstacles = np.array(list(zip(obs_row, obs_col)))\n",
    "\n",
    "    hitfrom_dict = {tuple(obstacle): [] for obstacle in obstacles}\n",
    "    visited = np.zeros(arr_new.shape)\n",
    "    cur = np.array([row_idx, col_idx])\n",
    "    visited[cur[0], cur[1]] = 1\n",
    "\n",
    "    end_run = False\n",
    "\n",
    "    curdir = Direction.UP\n",
    "\n",
    "    while (\n",
    "        cur[0] < arr_new.shape[0]\n",
    "        and cur[0] >= 0\n",
    "        and cur[1] < arr_new.shape[1]\n",
    "        and cur[1] >= 0\n",
    "    ):\n",
    "        next_pos = cur + get_next_step(curdir)\n",
    "        if (\n",
    "            next_pos[0] >= arr_new.shape[0]\n",
    "            or next_pos[0] < 0\n",
    "            or next_pos[1] >= arr_new.shape[1]\n",
    "            or next_pos[1] < 0\n",
    "        ):\n",
    "            break\n",
    "\n",
    "        while arr_new[next_pos[0], next_pos[1]] == 1:\n",
    "            if curdir in hitfrom_dict[tuple(next_pos)]:\n",
    "                count += 1\n",
    "                end_run = True\n",
    "                break\n",
    "\n",
    "            hitfrom_dict[tuple(next_pos)].append(curdir)\n",
    "            curdir = get_next_turn(curdir)\n",
    "            next_pos = cur + get_next_step(curdir)\n",
    "            if (\n",
    "                next_pos[0] >= arr_new.shape[0]\n",
    "                or next_pos[0] < 0\n",
    "                or next_pos[1] >= arr_new.shape[1]\n",
    "                or next_pos[1] < 0\n",
    "            ):\n",
    "                break\n",
    "\n",
    "        if end_run:\n",
    "            break\n",
    "\n",
    "        cur = next_pos\n",
    "        if (\n",
    "            cur[0] < arr_new.shape[0]\n",
    "            and cur[0] >= 0\n",
    "            and cur[1] < arr_new.shape[1]\n",
    "            and cur[1] >= 0\n",
    "        ):\n",
    "            visited[cur[0], cur[1]] = 1\n",
    "        else:\n",
    "            break\n"
   ]
  },
  {
   "cell_type": "code",
   "execution_count": 12,
   "metadata": {},
   "outputs": [
    {
     "data": {
      "text/plain": [
       "1482"
      ]
     },
     "execution_count": 12,
     "metadata": {},
     "output_type": "execute_result"
    }
   ],
   "source": [
    "count"
   ]
  }
 ],
 "metadata": {
  "kernelspec": {
   "display_name": ".venv",
   "language": "python",
   "name": "python3"
  },
  "language_info": {
   "codemirror_mode": {
    "name": "ipython",
    "version": 3
   },
   "file_extension": ".py",
   "mimetype": "text/x-python",
   "name": "python",
   "nbconvert_exporter": "python",
   "pygments_lexer": "ipython3",
   "version": "3.11.9"
  }
 },
 "nbformat": 4,
 "nbformat_minor": 2
}
