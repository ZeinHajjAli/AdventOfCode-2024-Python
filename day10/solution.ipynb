{
 "cells": [
  {
   "cell_type": "code",
   "execution_count": 1,
   "metadata": {},
   "outputs": [],
   "source": [
    "import numpy as np"
   ]
  },
  {
   "cell_type": "code",
   "execution_count": 2,
   "metadata": {},
   "outputs": [],
   "source": [
    "with open(\"./input.txt\", \"r\") as f:\n",
    "    input_data = [list(line.strip()) for line in f]\n",
    "\n",
    "input_data = np.array(input_data, dtype=int)"
   ]
  },
  {
   "cell_type": "markdown",
   "metadata": {},
   "source": [
    "# Part 1\n"
   ]
  },
  {
   "cell_type": "code",
   "execution_count": 3,
   "metadata": {},
   "outputs": [],
   "source": [
    "def find_trailhead_score(arr, start_coord):\n",
    "    all_final_coords = []\n",
    "    visited = np.zeros(arr.shape)\n",
    "\n",
    "    def dfs(arr, start_coord):\n",
    "        visited[start_coord[0]][start_coord[1]] = 1\n",
    "        if arr[start_coord[0]][start_coord[1]] == 9:\n",
    "            all_final_coords.append((int(start_coord[0]), int(start_coord[1])))\n",
    "\n",
    "        max_row, max_col = arr.shape\n",
    "\n",
    "        neighbours = [[-1, 0], [1, 0], [0, -1], [0, 1]]\n",
    "\n",
    "        for neighbour in neighbours:\n",
    "            next_coord = start_coord + neighbour\n",
    "\n",
    "            if (\n",
    "                next_coord[0] >= max_row\n",
    "                or next_coord[1] >= max_col\n",
    "                or any(next_coord < 0)\n",
    "                or visited[next_coord[0]][next_coord[1]]\n",
    "            ):\n",
    "                continue\n",
    "\n",
    "            if (\n",
    "                arr[next_coord[0]][next_coord[1]] - arr[start_coord[0]][start_coord[1]]\n",
    "                == 1\n",
    "            ):\n",
    "                dfs(arr, next_coord)\n",
    "\n",
    "    dfs(arr, start_coord)\n",
    "    return len(set(all_final_coords))"
   ]
  },
  {
   "cell_type": "code",
   "execution_count": 4,
   "metadata": {},
   "outputs": [],
   "source": [
    "start_rows, start_cols = np.where(input_data == 0)\n",
    "sum_scores = 0\n",
    "\n",
    "for start_row, start_col in zip(start_rows, start_cols):\n",
    "    sum_scores += find_trailhead_score(input_data, np.array([start_row, start_col]))"
   ]
  },
  {
   "cell_type": "code",
   "execution_count": 5,
   "metadata": {},
   "outputs": [
    {
     "data": {
      "text/plain": [
       "822"
      ]
     },
     "execution_count": 5,
     "metadata": {},
     "output_type": "execute_result"
    }
   ],
   "source": [
    "sum_scores"
   ]
  },
  {
   "cell_type": "markdown",
   "metadata": {},
   "source": [
    "# Part 2\n"
   ]
  },
  {
   "cell_type": "code",
   "execution_count": 6,
   "metadata": {},
   "outputs": [],
   "source": [
    "def find_trailhead_score(arr, start_coord):\n",
    "    all_final_coords = []\n",
    "\n",
    "    def dfs(arr, start_coord):\n",
    "        if arr[start_coord[0]][start_coord[1]] == 9:\n",
    "            all_final_coords.append((int(start_coord[0]), int(start_coord[1])))\n",
    "\n",
    "        max_row, max_col = arr.shape\n",
    "\n",
    "        neighbours = [[-1, 0], [1, 0], [0, -1], [0, 1]]\n",
    "\n",
    "        for neighbour in neighbours:\n",
    "            next_coord = start_coord + neighbour\n",
    "\n",
    "            if (\n",
    "                next_coord[0] >= max_row\n",
    "                or next_coord[1] >= max_col\n",
    "                or any(next_coord < 0)\n",
    "            ):\n",
    "                continue\n",
    "\n",
    "            if (\n",
    "                arr[next_coord[0]][next_coord[1]] - arr[start_coord[0]][start_coord[1]]\n",
    "                == 1\n",
    "            ):\n",
    "                dfs(arr, next_coord)\n",
    "\n",
    "    dfs(arr, start_coord)\n",
    "    return len(all_final_coords)"
   ]
  },
  {
   "cell_type": "code",
   "execution_count": 7,
   "metadata": {},
   "outputs": [],
   "source": [
    "start_rows, start_cols = np.where(input_data == 0)\n",
    "sum_scores = 0\n",
    "\n",
    "for start_row, start_col in zip(start_rows, start_cols):\n",
    "    sum_scores += find_trailhead_score(input_data, np.array([start_row, start_col]))"
   ]
  },
  {
   "cell_type": "code",
   "execution_count": 8,
   "metadata": {},
   "outputs": [
    {
     "data": {
      "text/plain": [
       "1801"
      ]
     },
     "execution_count": 8,
     "metadata": {},
     "output_type": "execute_result"
    }
   ],
   "source": [
    "sum_scores"
   ]
  }
 ],
 "metadata": {
  "kernelspec": {
   "display_name": ".venv",
   "language": "python",
   "name": "python3"
  },
  "language_info": {
   "codemirror_mode": {
    "name": "ipython",
    "version": 3
   },
   "file_extension": ".py",
   "mimetype": "text/x-python",
   "name": "python",
   "nbconvert_exporter": "python",
   "pygments_lexer": "ipython3",
   "version": "3.11.9"
  }
 },
 "nbformat": 4,
 "nbformat_minor": 2
}
