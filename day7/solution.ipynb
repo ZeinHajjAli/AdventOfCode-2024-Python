{
 "cells": [
  {
   "cell_type": "code",
   "execution_count": 1,
   "metadata": {},
   "outputs": [],
   "source": [
    "input_dict = {}\n",
    "with open(\"./input.txt\", \"r\") as f:\n",
    "    for line in f:\n",
    "        input_dict[int(line.split(\":\")[0])] = [\n",
    "            int(data.strip()) for data in line.split()[1:]\n",
    "        ]\n"
   ]
  },
  {
   "cell_type": "markdown",
   "metadata": {},
   "source": [
    "# Part 1\n"
   ]
  },
  {
   "cell_type": "code",
   "execution_count": 6,
   "metadata": {},
   "outputs": [],
   "source": [
    "def recurs(num_arr, result):\n",
    "    if len(num_arr) == 1:\n",
    "        if num_arr[0] == result:\n",
    "            return True\n",
    "        else:\n",
    "            return False\n",
    "\n",
    "    solved = recurs([num_arr[0] * num_arr[1], *num_arr[2:]], result)\n",
    "    if not solved:\n",
    "        solved = recurs([num_arr[0] + num_arr[1], *num_arr[2:]], result)\n",
    "\n",
    "    return solved"
   ]
  },
  {
   "cell_type": "code",
   "execution_count": 7,
   "metadata": {},
   "outputs": [
    {
     "name": "stdout",
     "output_type": "stream",
     "text": [
      "882304362421\n"
     ]
    }
   ],
   "source": [
    "sum_res = 0\n",
    "for result, nums in input_dict.items():\n",
    "    solved = recurs(nums, result)\n",
    "    if solved:\n",
    "        sum_res += result\n",
    "\n",
    "print(sum_res)"
   ]
  },
  {
   "cell_type": "markdown",
   "metadata": {},
   "source": [
    "# Part 2\n"
   ]
  },
  {
   "cell_type": "code",
   "execution_count": 4,
   "metadata": {},
   "outputs": [],
   "source": [
    "def lr_recurs(num_arr, result):\n",
    "    if len(num_arr) == 1:\n",
    "        if num_arr[0] == result:\n",
    "            return True\n",
    "        else:\n",
    "            return False\n",
    "\n",
    "    solved = lr_recurs([num_arr[0] * num_arr[1], *num_arr[2:]], result)\n",
    "    if not solved:\n",
    "        solved = lr_recurs([num_arr[0] + num_arr[1], *num_arr[2:]], result)\n",
    "        if not solved:\n",
    "            solved = lr_recurs(\n",
    "                [int(str(num_arr[0]) + str(num_arr[1])), *num_arr[2:]], result\n",
    "            )\n",
    "\n",
    "    return solved"
   ]
  },
  {
   "cell_type": "code",
   "execution_count": 5,
   "metadata": {},
   "outputs": [
    {
     "name": "stdout",
     "output_type": "stream",
     "text": [
      "145149066755184\n"
     ]
    }
   ],
   "source": [
    "sum_res = 0\n",
    "for result, nums in input_dict.items():\n",
    "    solved = lr_recurs(nums, result)\n",
    "    if solved:\n",
    "        sum_res += result\n",
    "\n",
    "print(sum_res)"
   ]
  }
 ],
 "metadata": {
  "kernelspec": {
   "display_name": ".venv",
   "language": "python",
   "name": "python3"
  },
  "language_info": {
   "codemirror_mode": {
    "name": "ipython",
    "version": 3
   },
   "file_extension": ".py",
   "mimetype": "text/x-python",
   "name": "python",
   "nbconvert_exporter": "python",
   "pygments_lexer": "ipython3",
   "version": "3.11.9"
  }
 },
 "nbformat": 4,
 "nbformat_minor": 2
}
