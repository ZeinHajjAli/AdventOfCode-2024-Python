{
 "cells": [
  {
   "cell_type": "code",
   "execution_count": 1,
   "metadata": {},
   "outputs": [],
   "source": [
    "import numpy as np"
   ]
  },
  {
   "cell_type": "code",
   "execution_count": 3,
   "metadata": {},
   "outputs": [],
   "source": [
    "with open(\"./input.txt\", \"r\") as f:\n",
    "    input_data = [np.array(line.split(), dtype=float) for line in f]"
   ]
  },
  {
   "cell_type": "markdown",
   "metadata": {},
   "source": [
    "# Part 1\n"
   ]
  },
  {
   "cell_type": "code",
   "execution_count": 10,
   "metadata": {},
   "outputs": [
    {
     "name": "stdout",
     "output_type": "stream",
     "text": [
      "321\n"
     ]
    }
   ],
   "source": [
    "count = 0\n",
    "\n",
    "for arr in input_data:\n",
    "    diffs = np.diff(arr)\n",
    "    all_inc_dec = np.all(diffs > 0) or np.all(diffs < 0)\n",
    "    all_thresh = np.all(abs(diffs) <= 3)\n",
    "    if all_inc_dec and all_thresh:\n",
    "        count += 1\n",
    "\n",
    "print(count)"
   ]
  },
  {
   "cell_type": "markdown",
   "metadata": {},
   "source": [
    "# Part 2\n"
   ]
  },
  {
   "cell_type": "code",
   "execution_count": 12,
   "metadata": {},
   "outputs": [
    {
     "name": "stdout",
     "output_type": "stream",
     "text": [
      "386\n"
     ]
    }
   ],
   "source": [
    "count = 0\n",
    "\n",
    "for arr in input_data:\n",
    "    for i in range(len(arr)):\n",
    "        dampened_arr = np.delete(arr, i)\n",
    "        diffs = np.diff(dampened_arr)\n",
    "        all_inc_dec = np.all(diffs > 0) or np.all(diffs < 0)\n",
    "        all_thresh = np.all(abs(diffs) <= 3)\n",
    "        if all_inc_dec and all_thresh:\n",
    "            count += 1\n",
    "            break\n",
    "\n",
    "print(count)"
   ]
  }
 ],
 "metadata": {
  "kernelspec": {
   "display_name": ".venv",
   "language": "python",
   "name": "python3"
  },
  "language_info": {
   "codemirror_mode": {
    "name": "ipython",
    "version": 3
   },
   "file_extension": ".py",
   "mimetype": "text/x-python",
   "name": "python",
   "nbconvert_exporter": "python",
   "pygments_lexer": "ipython3",
   "version": "3.11.9"
  }
 },
 "nbformat": 4,
 "nbformat_minor": 2
}
