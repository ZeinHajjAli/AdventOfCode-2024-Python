{
 "cells": [
  {
   "cell_type": "code",
   "execution_count": 1,
   "metadata": {},
   "outputs": [],
   "source": [
    "import numpy as np"
   ]
  },
  {
   "cell_type": "code",
   "execution_count": 2,
   "metadata": {},
   "outputs": [],
   "source": [
    "with open(\"./input.txt\", \"r\") as f:\n",
    "    diskmap = f.read().strip()\n",
    "\n",
    "diskmap = [int(digit) for digit in diskmap]"
   ]
  },
  {
   "cell_type": "markdown",
   "metadata": {},
   "source": [
    "# Part 1\n"
   ]
  },
  {
   "cell_type": "code",
   "execution_count": 3,
   "metadata": {},
   "outputs": [],
   "source": [
    "hydrated_diskmap = []\n",
    "for index, blocks in enumerate(diskmap):\n",
    "    if index % 2 == 0:\n",
    "        hydrated_diskmap.append([index / 2] * blocks)\n",
    "    else:\n",
    "        hydrated_diskmap.append([float(\"-inf\")] * blocks)\n",
    "\n",
    "hydrated_diskmap = np.array([block for blocks in hydrated_diskmap for block in blocks])"
   ]
  },
  {
   "cell_type": "code",
   "execution_count": 4,
   "metadata": {},
   "outputs": [],
   "source": [
    "while True:\n",
    "    last_full_block = np.where(hydrated_diskmap != -np.inf)[0][-1]\n",
    "    first_free_block = np.where(hydrated_diskmap == -np.inf)[0][0]\n",
    "\n",
    "    if first_free_block > last_full_block:\n",
    "        break\n",
    "\n",
    "    hydrated_diskmap[[first_free_block, last_full_block]] = hydrated_diskmap[\n",
    "        [last_full_block, first_free_block]\n",
    "    ]"
   ]
  },
  {
   "cell_type": "code",
   "execution_count": 5,
   "metadata": {},
   "outputs": [
    {
     "name": "stdout",
     "output_type": "stream",
     "text": [
      "6291146824486.0\n"
     ]
    }
   ],
   "source": [
    "checksum_diskmap = hydrated_diskmap[np.where(hydrated_diskmap != -np.inf)]\n",
    "checksum = np.dot(checksum_diskmap, np.arange(len(checksum_diskmap)))\n",
    "print(checksum)"
   ]
  },
  {
   "cell_type": "markdown",
   "metadata": {},
   "source": [
    "# Part 2\n"
   ]
  },
  {
   "cell_type": "code",
   "execution_count": 6,
   "metadata": {},
   "outputs": [],
   "source": [
    "hydrated_diskmap = []\n",
    "for index, blocks in enumerate(diskmap):\n",
    "    if index % 2 == 0:\n",
    "        hydrated_diskmap.append([index / 2] * blocks)\n",
    "    else:\n",
    "        hydrated_diskmap.append([float(\"-inf\")] * blocks)\n",
    "\n",
    "hydrated_diskmap = np.array([block for blocks in hydrated_diskmap for block in blocks])"
   ]
  },
  {
   "cell_type": "code",
   "execution_count": 7,
   "metadata": {},
   "outputs": [],
   "source": [
    "# DEBUG_NUM = 6\n",
    "current_file = hydrated_diskmap.max()\n",
    "\n",
    "while current_file > 0:\n",
    "    file_blocks = np.where(hydrated_diskmap == current_file)\n",
    "    v = np.lib.stride_tricks.sliding_window_view(hydrated_diskmap, len(file_blocks[0]))\n",
    "    open_spaces = np.where(np.all(v == -np.inf, axis=1))[0]\n",
    "    # if current_file == DEBUG_NUM:\n",
    "    #     print(file_blocks, open_spaces)\n",
    "    if len(open_spaces) > 0 and open_spaces[0] < file_blocks[0][0]:\n",
    "        for block_idx in range(len(file_blocks[0])):\n",
    "            first_free_block = open_spaces[0] + block_idx\n",
    "            last_full_block = file_blocks[0][block_idx]\n",
    "            # if current_file == DEBUG_NUM:\n",
    "            #     print(first_free_block, last_full_block)\n",
    "            hydrated_diskmap[[first_free_block, last_full_block]] = hydrated_diskmap[\n",
    "                [last_full_block, first_free_block]\n",
    "            ]\n",
    "\n",
    "    # if current_file == DEBUG_NUM:\n",
    "    #     print(hydrated_diskmap)\n",
    "\n",
    "    current_file -= 1"
   ]
  },
  {
   "cell_type": "code",
   "execution_count": 8,
   "metadata": {},
   "outputs": [
    {
     "name": "stdout",
     "output_type": "stream",
     "text": [
      "6307279963620.0\n"
     ]
    }
   ],
   "source": [
    "checksum = np.dot(\n",
    "    hydrated_diskmap[np.where(hydrated_diskmap != -np.inf)],\n",
    "    np.where(hydrated_diskmap != -np.inf)[0],\n",
    ")\n",
    "print(checksum)"
   ]
  }
 ],
 "metadata": {
  "kernelspec": {
   "display_name": ".venv",
   "language": "python",
   "name": "python3"
  },
  "language_info": {
   "codemirror_mode": {
    "name": "ipython",
    "version": 3
   },
   "file_extension": ".py",
   "mimetype": "text/x-python",
   "name": "python",
   "nbconvert_exporter": "python",
   "pygments_lexer": "ipython3",
   "version": "3.11.9"
  }
 },
 "nbformat": 4,
 "nbformat_minor": 2
}
