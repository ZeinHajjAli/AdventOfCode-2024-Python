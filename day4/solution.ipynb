{
 "cells": [
  {
   "cell_type": "code",
   "execution_count": 2,
   "metadata": {},
   "outputs": [],
   "source": [
    "with open(\"./input.txt\", \"r\") as f:\n",
    "    input_data = [line for line in f]"
   ]
  },
  {
   "cell_type": "markdown",
   "metadata": {},
   "source": [
    "# Part 1\n"
   ]
  },
  {
   "cell_type": "code",
   "execution_count": 4,
   "metadata": {},
   "outputs": [
    {
     "name": "stdout",
     "output_type": "stream",
     "text": [
      "2583\n"
     ]
    }
   ],
   "source": [
    "target_word = \"XMAS\"\n",
    "reverse_word = target_word[::-1]\n",
    "\n",
    "rows = len(input_data)\n",
    "cols = len(input_data[0])\n",
    "\n",
    "count = 0\n",
    "\n",
    "# Check horizontally\n",
    "for r in range(rows):\n",
    "    for c in range(cols - len(target_word) + 1):\n",
    "        # Check left to right\n",
    "        if input_data[r][c : c + len(target_word)] == target_word:\n",
    "            count += 1\n",
    "        # Check right to left\n",
    "        if input_data[r][c : c + len(target_word)] == reverse_word:\n",
    "            count += 1\n",
    "\n",
    "# Check vertically\n",
    "for c in range(cols):\n",
    "    for r in range(rows - len(target_word) + 1):\n",
    "        # Check top to bottom\n",
    "        if (\n",
    "            \"\".join(input_data[r + i][c] for i in range(len(target_word)))\n",
    "            == target_word\n",
    "        ):\n",
    "            count += 1\n",
    "        # Check bottom to top\n",
    "        if (\n",
    "            \"\".join(input_data[r + i][c] for i in range(len(target_word)))\n",
    "            == reverse_word\n",
    "        ):\n",
    "            count += 1\n",
    "\n",
    "# Check diagonals\n",
    "for r in range(rows - len(target_word) + 1):\n",
    "    for c in range(cols - len(target_word) + 1):\n",
    "        # Check top-left to bottom-right\n",
    "        if (\n",
    "            \"\".join(input_data[r + i][c + i] for i in range(len(target_word)))\n",
    "            == target_word\n",
    "        ):\n",
    "            count += 1\n",
    "        # Check bottom-left to top-right\n",
    "        if (\n",
    "            \"\".join(input_data[r + i][c + i] for i in range(len(target_word)))\n",
    "            == reverse_word\n",
    "        ):\n",
    "            count += 1\n",
    "        # Check top-right to bottom-left\n",
    "        if (\n",
    "            \"\".join(\n",
    "                input_data[r + i][c + len(target_word) - 1 - i]\n",
    "                for i in range(len(target_word))\n",
    "            )\n",
    "            == target_word\n",
    "        ):\n",
    "            count += 1\n",
    "        # Check bottom-right to top-left\n",
    "        if (\n",
    "            \"\".join(\n",
    "                input_data[r + i][c + len(target_word) - 1 - i]\n",
    "                for i in range(len(target_word))\n",
    "            )\n",
    "            == reverse_word\n",
    "        ):\n",
    "            count += 1\n",
    "\n",
    "print(count)"
   ]
  },
  {
   "cell_type": "markdown",
   "metadata": {},
   "source": [
    "# Part 2\n"
   ]
  },
  {
   "cell_type": "code",
   "execution_count": 5,
   "metadata": {},
   "outputs": [
    {
     "name": "stdout",
     "output_type": "stream",
     "text": [
      "1978\n"
     ]
    }
   ],
   "source": [
    "rows = len(input_data)\n",
    "cols = len(input_data[0])\n",
    "count = 0\n",
    "\n",
    "for row in range(1, rows - 1):\n",
    "    for col in range(1, cols - 1):\n",
    "        if input_data[row][col] == \"A\":\n",
    "            TL_BR = (\n",
    "                input_data[row - 1][col - 1] == \"M\"\n",
    "                and input_data[row + 1][col + 1] == \"S\"\n",
    "            )\n",
    "            BR_TL = (\n",
    "                input_data[row + 1][col + 1] == \"M\"\n",
    "                and input_data[row - 1][col - 1] == \"S\"\n",
    "            )\n",
    "            TR_BL = (\n",
    "                input_data[row - 1][col + 1] == \"M\"\n",
    "                and input_data[row + 1][col - 1] == \"S\"\n",
    "            )\n",
    "            BL_TR = (\n",
    "                input_data[row + 1][col - 1] == \"M\"\n",
    "                and input_data[row - 1][col + 1] == \"S\"\n",
    "            )\n",
    "            if (TL_BR or BR_TL) and (TR_BL or BL_TR):\n",
    "                count += 1\n",
    "\n",
    "print(count)"
   ]
  }
 ],
 "metadata": {
  "kernelspec": {
   "display_name": ".venv",
   "language": "python",
   "name": "python3"
  },
  "language_info": {
   "codemirror_mode": {
    "name": "ipython",
    "version": 3
   },
   "file_extension": ".py",
   "mimetype": "text/x-python",
   "name": "python",
   "nbconvert_exporter": "python",
   "pygments_lexer": "ipython3",
   "version": "3.11.9"
  }
 },
 "nbformat": 4,
 "nbformat_minor": 2
}
