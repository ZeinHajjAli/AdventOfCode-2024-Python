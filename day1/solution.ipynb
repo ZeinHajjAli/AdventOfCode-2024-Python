{
 "cells": [
  {
   "cell_type": "code",
   "execution_count": null,
   "metadata": {},
   "outputs": [],
   "source": [
    "import numpy as np"
   ]
  },
  {
   "cell_type": "code",
   "execution_count": 5,
   "metadata": {},
   "outputs": [],
   "source": [
    "input_arr = np.loadtxt(\"./input.txt\", dtype=int)"
   ]
  },
  {
   "cell_type": "markdown",
   "metadata": {},
   "source": [
    "# Part 1\n"
   ]
  },
  {
   "cell_type": "code",
   "execution_count": 11,
   "metadata": {},
   "outputs": [],
   "source": [
    "left_list = input_arr[:, 0]\n",
    "right_list = input_arr[:, 1]\n",
    "diffs = []\n",
    "\n",
    "for i in range(len(left_list)):\n",
    "    left_min = left_list.min()\n",
    "    right_min = right_list.min()\n",
    "    diffs.append(abs(left_min - right_min))\n",
    "    left_list = np.delete(left_list, np.where(left_list == left_min)[0][0])\n",
    "    right_list = np.delete(right_list, np.where(right_list == right_min)[0][0])"
   ]
  },
  {
   "cell_type": "code",
   "execution_count": 14,
   "metadata": {},
   "outputs": [
    {
     "data": {
      "text/plain": [
       "np.int64(2113135)"
      ]
     },
     "execution_count": 14,
     "metadata": {},
     "output_type": "execute_result"
    }
   ],
   "source": [
    "np.sum(diffs)"
   ]
  },
  {
   "cell_type": "markdown",
   "metadata": {},
   "source": [
    "# Part 2\n"
   ]
  },
  {
   "cell_type": "code",
   "execution_count": 26,
   "metadata": {},
   "outputs": [
    {
     "data": {
      "text/plain": [
       "np.int64(19097157)"
      ]
     },
     "execution_count": 26,
     "metadata": {},
     "output_type": "execute_result"
    }
   ],
   "source": [
    "sims = []\n",
    "left_list = input_arr[:, 0]\n",
    "right_list = input_arr[:, 1]\n",
    "for i in range(len(left_list)):\n",
    "    sims.append(left_list[i] * len(np.where(right_list == left_list[i])[0]))\n",
    "\n",
    "np.sum(sims)"
   ]
  }
 ],
 "metadata": {
  "kernelspec": {
   "display_name": ".venv",
   "language": "python",
   "name": "python3"
  },
  "language_info": {
   "codemirror_mode": {
    "name": "ipython",
    "version": 3
   },
   "file_extension": ".py",
   "mimetype": "text/x-python",
   "name": "python",
   "nbconvert_exporter": "python",
   "pygments_lexer": "ipython3",
   "version": "3.11.9"
  }
 },
 "nbformat": 4,
 "nbformat_minor": 2
}
